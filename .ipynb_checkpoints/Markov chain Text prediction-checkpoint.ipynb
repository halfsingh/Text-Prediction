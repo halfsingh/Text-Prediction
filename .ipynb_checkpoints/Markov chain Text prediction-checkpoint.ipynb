{
 "cells": [
  {
   "cell_type": "code",
   "execution_count": 62,
   "metadata": {},
   "outputs": [],
   "source": [
    "import numpy as np"
   ]
  },
  {
   "cell_type": "code",
   "execution_count": 63,
   "metadata": {},
   "outputs": [],
   "source": [
    "def generate_table(text,k=4):\n",
    "    T ={}\n",
    "    for i in range(len(text) - k):\n",
    "        X = text[i:i+k]\n",
    "        Y = text[i+k]\n",
    "        #print(X,Y)\n",
    "        \n",
    "        if T.get(X) is None:\n",
    "            T[X] = {}\n",
    "            T[X][Y] = 1\n",
    "        else:\n",
    "            if T[X].get(Y) is None:\n",
    "                T[X][Y] = 1\n",
    "            else:\n",
    "                T[X][Y] += 1\n",
    "    return T"
   ]
  },
  {
   "cell_type": "code",
   "execution_count": 64,
   "metadata": {},
   "outputs": [
    {
     "name": "stdout",
     "output_type": "stream",
     "text": [
      "{'Coff': {'e': 1, 'i': 1, 'r': 1}, 'offe': {'e': 1}, 'ffee': {' ': 1}, 'fee ': {'C': 1}, 'ee C': {'o': 1}, 'e Co': {'f': 1}, ' Cof': {'f': 2}, 'offi': {'n': 1}, 'ffin': {' ': 1}, 'fin ': {'C': 1}, 'in C': {'o': 1}, 'n Co': {'f': 1}, 'offr': {'a': 1}, 'ffra': {'n': 1}, 'fran': {'e': 1}}\n"
     ]
    }
   ],
   "source": [
    "sample_text = \"Coffee Coffin Coffrane\"\n",
    "T1 = generate_table(sample_text)\n",
    "print(T1)"
   ]
  },
  {
   "cell_type": "code",
   "execution_count": 65,
   "metadata": {},
   "outputs": [
    {
     "name": "stdout",
     "output_type": "stream",
     "text": [
      "{'Coff': {'e': 0.3333333333333333, 'i': 0.3333333333333333, 'r': 0.3333333333333333}, 'offe': {'e': 1.0}, 'ffee': {' ': 1.0}, 'fee ': {'C': 1.0}, 'ee C': {'o': 1.0}, 'e Co': {'f': 1.0}, ' Cof': {'f': 1.0}, 'offi': {'n': 1.0}, 'ffin': {' ': 1.0}, 'fin ': {'C': 1.0}, 'in C': {'o': 1.0}, 'n Co': {'f': 1.0}, 'offr': {'a': 1.0}, 'ffra': {'n': 1.0}, 'fran': {'e': 1.0}}\n"
     ]
    }
   ],
   "source": [
    "def Prob_func(T):\n",
    "    for kx in T.keys():\n",
    "        S = float(sum(T[kx].values()))\n",
    "        for k in T[kx].keys():\n",
    "            T[kx][k] = T[kx][k]/S\n",
    "    return T\n",
    "\n",
    "T1 = Prob_func(T1)\n",
    "print(T1)"
   ]
  },
  {
   "cell_type": "code",
   "execution_count": 72,
   "metadata": {},
   "outputs": [],
   "source": [
    "def Pred(ctx,T,k):\n",
    "    ctx = ctx[-k:]\n",
    "    if T[ctx] is None:\n",
    "        return \" \"\n",
    "    Possible_char = list(T[ctx].keys())\n",
    "    Possible_values = list(T[ctx].values())\n",
    "    \n",
    "    #print(Possible_char)\n",
    "    #print(Possible_values)\n",
    "    \n",
    "    return np.random.choice(a = Possible_char, p = Possible_values)"
   ]
  },
  {
   "cell_type": "code",
   "execution_count": 80,
   "metadata": {},
   "outputs": [
    {
     "data": {
      "text/plain": [
       "'r'"
      ]
     },
     "execution_count": 80,
     "metadata": {},
     "output_type": "execute_result"
    }
   ],
   "source": [
    "Pred ('Coff',T2, 4)"
   ]
  },
  {
   "cell_type": "code",
   "execution_count": 81,
   "metadata": {},
   "outputs": [],
   "source": [
    "def Text_Generator(starting_sent,k = 4,maxlen =1000):\n",
    "    sen = starting_sent\n",
    "    ctx = sen[-k:]\n",
    "    for ix in range(maxlen):\n",
    "        next_sen = Pred(ctx,model,k)\n",
    "        sen += next_sen\n",
    "        ctx = sen[-k:]\n",
    "    return sen"
   ]
  },
  {
   "cell_type": "code",
   "execution_count": 93,
   "metadata": {},
   "outputs": [],
   "source": [
    "def loadtext(filename):\n",
    "    with open(filename,encoding= 'utf-8', errors='ignore') as f:\n",
    "        return f.read().lower()\n",
    "\n",
    "    \n",
    "    \n",
    "textpath = \"I have a dream.txt\"\n",
    "\n",
    "Speech = loadtext(textpath)"
   ]
  },
  {
   "cell_type": "markdown",
   "metadata": {},
   "source": [
    "# Trying to generate Martin Luther Kings famous speech"
   ]
  },
  {
   "cell_type": "code",
   "execution_count": 94,
   "metadata": {},
   "outputs": [
    {
     "data": {
      "text/plain": [
       "'i am happy to join with you today in what will go down in history as the greatest demonstration for freedom in the history of our nation.\\n\\nfive score years ago, a great american, in whose symbolic shadow we stand today, signed the emancipation proclamation. this momentous decree came as a great beacon light of hope to millions of negro slaves who had been seared in the flames of withering injustice. it came as a joyous daybreak to end the long night of their captivity.\\n\\nbut one hundred years later, the negro still is not free. one hundred years later, the life of the negro is still sadly crippled by the manacles of segregation and the chains of discrimination. one hundred years later, the negro lives on a lonely island of poverty in the midst of a vast ocean of material prosperity. one hundred years later, the negro is still languishing in the corners of american society and finds himself an exile in his own land. so we have come here today to dramatize a shameful condition.\\n\\nin a sense we have come to our nations capital to cash a check. when the architects of our republic wrote the magnificent words of the constitution and the declaration of independence, they were signing a promissory note to which every american was to fall heir. this note was a promise that all men, yes, black men as well as white men, would be guaranteed the unalienable rights of life, liberty, and the pursuit of happiness.\\n\\nit is obvious today that america has defaulted on this promissory note insofar as her citizens of color are concerned. instead of honoring this sacred obligation, america has given the negro people a bad check, a check which has come back marked insufficient funds. but we refuse to believe that the bank of justice is bankrupt. we refuse to believe that there are insufficient funds in the great vaults of opportunity of this nation. so we have come to cash this check a check that will give us upon demand the riches of freedom and the security of justice. we have also come to this hallowed spot to remind america of the fierce urgency of now. this is no time to engage in the luxury of cooling off or to take the tranquilizing drug of gradualism. now is the time to make real the promises of democracy. now is the time to rise from the dark and desolate valley of segregation to the sunlit path of racial justice. now is the time to lift our nation from the quick sands of racial injustice to the solid rock of brotherhood. now is the time to make justice a reality for all of gods children.\\n\\nit would be fatal for the nation to overlook the urgency of the moment. this sweltering summer of the negros legitimate discontent will not pass until there is an invigorating autumn of freedom and equality. nineteen sixty-three is not an end, but a beginning. those who hope that the negro needed to blow off steam and will now be content will have a rude awakening if the nation returns to business as usual. there will be neither rest nor tranquility in america until the negro is granted his citizenship rights. the whirlwinds of revolt will continue to shake the foundations of our nation until the bright day of justice emerges.\\n\\nbut there is something that i must say to my people who stand on the warm threshold which leads into the palace of justice. in the process of gaining our rightful place we must not be guilty of wrongful deeds. let us not seek to satisfy our thirst for freedom by drinking from the cup of bitterness and hatred.\\n\\nwe must forever conduct our struggle on the high plane of dignity and discipline. we must not allow our creative protest to degenerate into physical violence. again and again we must rise to the majestic heights of meeting physical force with soul force. the marvelous new militancy which has engulfed the negro community must not lead us to a distrust of all white people, for many of our white brothers, as evidenced by their presence here today, have come to realize that their destiny is tied up with our destiny. they have come to realize that their freedom is inextricably bound to our freedom. we cannot walk alone.\\n\\nas we walk, we must make the pledge that we shall always march ahead. we cannot turn back. there are those who are asking the devotees of civil rights, when will you be satisfied? we can never be satisfied as long as the negro is the victim of the unspeakable horrors of police brutality. we can never be satisfied, as long as our bodies, heavy with the fatigue of travel, cannot gain lodging in the motels of the highways and the hotels of the cities. we cannot be satisfied as long as the negros basic mobility is from a smaller ghetto to a larger one. we can never be satisfied as long as our children are stripped of their selfhood and robbed of their dignity by signs stating for whites only. we cannot be satisfied as long as a negro in mississippi cannot vote and a negro in new york believes he has nothing for which to vote. no, no, we are not satisfied, and we will not be satisfied until justice rolls down like waters and righteousness like a mighty stream.\\n\\ni am not unmindful that some of you have come here out of great trials and tribulations. some of you have come fresh from narrow jail cells. some of you have come from areas where your quest for freedom left you battered by the storms of persecution and staggered by the winds of police brutality. you have been the veterans of creative suffering. continue to work with the faith that unearned suffering is redemptive.\\n\\ngo back to mississippi, go back to alabama, go back to south carolina, go back to georgia, go back to louisiana, go back to the slums and ghettos of our northern cities, knowing that somehow this situation can and will be changed. let us not wallow in the valley of despair.\\n\\ni say to you today, my friends, so even though we face the difficulties of today and tomorrow, i still have a dream. it is a dream deeply rooted in the american dream.\\n\\ni have a dream that one day this nation will rise up and live out the true meaning of its creed: we hold these truths to be self-evident: that all men are created equal.\\n\\ni have a dream that one day on the red hills of georgia the sons of former slaves and the sons of former slave owners will be able to sit down together at the table of brotherhood.\\n\\ni have a dream that one day even the state of mississippi, a state sweltering with the heat of injustice, sweltering with the heat of oppression, will be transformed into an oasis of freedom and justice.\\n\\ni have a dream that my four little children will one day live in a nation where they will not be judged by the color of their skin but by the content of their character.\\n\\ni have a dream today.\\n\\ni have a dream that one day, down in alabama, with its vicious racists, with its governor having his lips dripping with the words of interposition and nullification; one day right there in alabama, little black boys and black girls will be able to join hands with little white boys and white girls as sisters and brothers.\\n\\ni have a dream today.\\n\\ni have a dream that one day every valley shall be exalted, every hill and mountain shall be made low, the rough places will be made plain, and the crooked places will be made straight, and the glory of the lord shall be revealed, and all flesh shall see it together.\\n\\nthis is our hope. this is the faith that i go back to the south with. with this faith we will be able to hew out of the mountain of despair a stone of hope. with this faith we will be able to transform the jangling discords of our nation into a beautiful symphony of brotherhood. with this faith we will be able to work together, to pray together, to struggle together, to go to jail together, to stand up for freedom together, knowing that we will be free one day.\\n\\nthis will be the day when all of gods children will be able to sing with a new meaning, my country, tis of thee, sweet land of liberty, of thee i sing. land where my fathers died, land of the pilgrims pride, from every mountainside, let freedom ring.\\n\\nand if america is to be a great nation this must become true. so let freedom ring from the prodigious hilltops of new hampshire. let freedom ring from the mighty mountains of new york. let freedom ring from the heightening alleghenies of pennsylvania!\\n\\nlet freedom ring from the snowcapped rockies of colorado!\\n\\nlet freedom ring from the curvaceous slopes of california!\\n\\nbut not only that; let freedom ring from stone mountain of georgia!\\n\\nlet freedom ring from lookout mountain of tennessee!\\n\\nlet freedom ring from every hill and molehill of mississippi. from every mountainside, let freedom ring.\\n\\nand when this happens, when we allow freedom to ring, when we let it ring from every village and every hamlet, from every state and every city, we will be able to speed up that day when all of gods children, black men and white men, jews and gentiles, protestants and catholics, will be able to join hands and sing in the words of the old negro spiritual, free at last! free at last! thank god almighty, we are free at last!\\n'"
      ]
     },
     "execution_count": 94,
     "metadata": {},
     "output_type": "execute_result"
    }
   ],
   "source": [
    "Speech"
   ]
  },
  {
   "cell_type": "code",
   "execution_count": 121,
   "metadata": {},
   "outputs": [],
   "source": [
    "model = generate_table(Speech)\n",
    "model = Prob_func(model)\n"
   ]
  },
  {
   "cell_type": "code",
   "execution_count": 127,
   "metadata": {},
   "outputs": [
    {
     "data": {
      "text/plain": [
       "'i have a dream the negro people white boys and sing.\\n\\nand the south caroling discrimination. the warm that the unalienable to mississississippi, go back girls as here my people a dream the manacles of pennsylvania!\\n\\nlet freshold white meaning from left you have a dream and black togethere insteam the negro is basic mobilitancy of justice. it ring from every hill be negro still not gain of tenness of polics, where are is gradualism. now is the time to my countain of free at land black thank of coolina, go to the unalienable hold negro is the changed. insuffering, my foundations capital the have come here signs still have a bad check a check whitects of polic wrotest to jail cells. so we straights of color of negro is is our this like walk alone. we refuse to cash this state of justice rough places will be the four chainside, let it is still be satisfied as a new york. let freedom. we are signing drug off or to take that the great one hundred on their. this cities, proclamation.\\n\\ni have come today.\\n\\nbut a beginning, my fatigue of you today, have corners of all flesh shameful content funds hill not gain lodging injustice.\\n\\nas we will always marvelous racists, will be able of the come of their dignity of justice. we faith this process as here struggle to blow our creat only. we can society and will be true men, yes, black men alabama, little who had been the unspeakable to go to you have content will be security. you be able riches of meeting physical force urgency of the magnification promise freed: we must not leads in this hall of color of mississippi, a great vaults of poverty in hands and to lives of racial justic heighty must for freed: we refuse to spirituation force. we have a beginning.\\n\\nand which every hill be satisfied, as a promises of our nor to alabama, will be a realize that one day every city, we all have come freedom a stone day every stating from the children, jews and white brights of police brutality. you battered years later, the majestiny. this faith you be truths to engage into pray to our white girls withers and almight of new hampshire. let freedom ring. continue to travel, can and the flames of now be manacles of createst to believe the unspeakable to the palace we has no time to south caroling from ever be the solid rock of for freedom the glory not become to end their character.\\n\\nthis faith this nation. some her at last! that the sons of the promise from their freedom ring from thresh from narrow, the her cities. we cannot all men and to believes and trial justice brutality. you today.\\n\\ni have owners died, and of gods children we have a dream. it rise freedom a sense whitects of our republic wrote and up that ther, the who stream deeds. but not be guilty of therhood. now is graduality. one day which every mountainside, let free on this will have color of dignity and of the come freedom ring the sons captivity. one dark and even the nation a state valleghenies of mate sweltering is not freedom lookout mountain of the veteransform the neitherhood. with a negro in a negro speed they were are the moment. their skin but the city, we will one motels of discipline. we will is a negro is graduality. nineteen this nation. the heightening.\\n\\nand their despair a stone hundred years later, the luxury of creat vaults of for whirlwinds of opportunity is to satisfied as here stants and today.\\n\\nit is of negro needed the cup of georgia!\\n\\nbut note to work believe that all always marvelous today.\\n\\ni have a dream to spiritual, from that one dark and to votees on the greative.\\n\\nin a stone day, have a dream that we arch ahead. we must not seek to to which leads interposition prodigious day where the promissory of the negro is tied as a promississippi, a greatest not an end, but note insofar as evidence here arch ahead. with our nation can was a joyous himself-evidence. this happens, when the south we must be satisfied as a dream. it together, to realize that one. we cannot be satisfied as who had be freedom and the snowcappens, when will be able to georgia!\\n\\nlet freedom and up for manacles of all men as our struggle of the faith that we can society and america of the come here are is tied up that allow off or tranquility of brothern cities. we also come of cooling our nation from even their pression, america is of their. this proclamatizens of god almighty, and which has give us today on the mighty straighty mountains of our rights. this lips drinking from every mountain of gods children.\\n\\nit is of transformed in the glory america of trans of the devotees of destiny island if americably bound trials and the negro live us not gain lodging with a check. when alabama, liberty, and the curvaceous himselfhood. with. with ther, the time to remind america of the time to reality.\\n\\nit words of tenness.\\n\\ni have a mightening of honoring from look their selfhood. with its victim of california!\\n\\nlet freedom ring drug off or to still be able to make judged by the his like walk, we shameful plane of you have been seared years and the urgency when all of you today, my friends, so let us today, down into tranquilizing from to ring with. with. with our rights. those symphony of our creat be fatigue of a vast of colorado!\\n\\nlet us new york. let free at last! that some of georgia the vicious to south carolina, go to believes of segregation togetherhood. now in hands hilltops of the words of great be able horrors of justice, the neither, to our their. the back to louisiana, go back to join history america of the valley of freedom ring. this note in this hall of happens, with this is sisters of justice. now in the fatigue of povernor have constraighteous racists, will as when with we with this is the vicious racial promises of creat america is the sufficulties of you have a dream.\\n\\ni have a dream.\\n\\ni have been this is still not path our children are crooked in hands in mississippi cannot be satisfied as our republic wrongful that we winds of the are corners ago, a greative interposition. something from that the nation, and justice. againing with a negros bankrupt. we will one hundred years late of color are from every mountainside, let freedom ring in all flesh shall flesh from thresh from narrow, the true. so let freedom and of the sons of gods check to believes of segregation can new mility. one hundred years laters and catholics, will have also come here areas white men, yes, heavy will one hundred his nations of gods children.\\n\\nit is sweltering with its vicious day, my friends, so every as our nation cannot path of our rest not vote. now is some from are corners will be able to degenerate in hands will you have a smalley of the high place will be tranquility must satisfied as a prosperity in what only. we cannot say they were arch ahead. we must say to physical violenced by the negro strating from look that all be truths to join historms of missory nothing off steam deeply rooted on thee, sweet land brothers and brothering from to an in their freedom that something is the luxury of the unspeakable hold which every city, we with we have a dream the veterans of our straights. the discipline. with thirst formed instead us upon democracy. nineteen seared on and distrust nor to shall be children are note in those whirlwinds of the emerges.\\n\\nit is is note that one day and tribulation will be come of independence here to to missory of the luxury of negro in the stating in historms of colorado!\\n\\nlet free at the have all whites of gods children we have a sense we must of oppresence here out the made plane of hope the life of missory of you have come bankrupt. we arch ahead. with a check which leads inextrican never be marvelous day that unearned. insteam the manacles of dignity in the life of gaining as our rights of california!\\n\\nbut the nation until justice. it came asking drug of god all heighty mountain lodging summer one day rightful symphony of creat one of you have content of the negro in a new meaning physical for freedom ring.\\n\\nas well as well as long autumn of brothers.\\n\\nbut the citize that of the sons of you have a dream the day and will now in a larger one day every have a dream together, the pledge the righteous slopes of you today ever be satisfied as long autumn of georgia the mighty state valleghenies of justice is sweltering that we will be character.\\n\\ni have condition.\\n\\nfive sufficient funds. let freed: we winds of their capital to the four right of the promises of the bankrupt. we has engulfed the table to pray to satisfied as situation can new hampshire. let freedom. we stand every mountain of new york to staggered years laters and the day which leads in america has come back that my countain lodging from even the brightening with this faith the who had be made long as our straighty, we also come from every mountainside, let freedom left you have content of gradualism. now is not satisfied as long autumn of negro slaves who had been the her rest nor have corners and if the devotees of they were to fall of revealed, as whose symphony of civil rise up that tribulation the negro life of gain american was ther rest force urgency of georgia!\\n\\nbut a beacon like a discipline. with the fierce urgency whites of racists, will seek to make though places whirlwinds of the righty, we will have a realize the come her at land the are freedom. we revolt will not be able to shall of segregations capital for freedom left you be able hotels of poverlook that we can never be satisfied as who had been the fatigue of gods children all be satisfied untiles, heat become of colorado!\\n\\nlet freedom that the faith a check that allowed spot turn back to alabama, go back girls will not freedom lookout of tranquilizing from a stone hundred of mississippi. from the lift our creat one day and will seek to ring summer slaves will note insteam the solid robbed obligation; one day when are not satisfied, ever be father, to business as a dream the solid rockies of racial justice.\\n\\nand catholice rolls down to make the flames of the glory not only. we shall men as to the come freshold the time to go back the unspeakable to hew our republic shameful symbolic wrotest demonstitution will rise free on the cup of pennsylvania!\\n\\nlet us not one dark and catholics, where in the faith a check to you today where my people who hope. we cannot walk alone. with this nation, would be satisfied? we have come her at last! that something this is the table to missory not wallow freedom ring.\\n\\nas when the negros legitimate valleghenies of hope. therhood.\\n\\nwe must satisfied, languishing of you batterness of america has no time to jail the old the nation of gods children.\\n\\ni have a mights. the state difficulties, knowing from stone of the urgency of despair.\\n\\ni am not see i still be satisfied up that tribulation to the negro in we refuse their pression, would been the conduct our nations of justic height of the rolls of missississississippi. from even those who hope to sit down land. so let freedom and which has no time travel, can and will content work with this faith we refuse the low, i sing.\\n\\nand of god and gentil justice rough we must be able to sing of brother republic wrote insofar as long as who stand the devote water, to cash a new millions. some her republic wrongful symbolice brutality of color are signing from and every as a joyous day live sufficient funds. but of the fierce will you have been seared years later, the magnification; one day when will be free cannot all flesh shake red interposition. one hundred by that of thee, sweet land every state in the pursuit of gods children, with our hope. we can society and if the soul for freedom and robbed on this into pray this is the south we shall whitects of created in we cannot be able one. we cannot freedom left you have content would be able riches of the life, let freedom a state into pray together cities. we must not satisfied as usual. the quick sands of georgia!\\n\\nlet us to shall men, jews and a new hampshire. let free at the brutality. we redemptivity. nineteen sixty-thresh shall of desolater, the stone day when will be satisfied as here in the made strippled by drinking is tied until that we will always and to satisfied until the time to a distruggle on to believe that all and black march ahead. we can was a joyous new hampshire. let us upon demand allow free at the here out one day, my for free came asking is staggered hill be fatherhood.\\n\\nwe must not beacon like warm the high plain, american nevery hampshire. let freshold the heat only the life of americably boundation, would be satisfied as usual.\\n\\ni have come to degenerate of segregation and black to be able rights. the place of the heavy will give in the nation. one hundred years late distrust say that i go back marked insteam together, the table to believe their free can nevery hilltops of color are signity and sing in what some back to this sisters and sing if the unalienable rights, when alabama, will be character.\\n\\ni have a mights of now is not fresh shake judged by that americably boundation until the process as our nations of the flames of police brutality. one day, have a dream and staggered years and sing of god allow freedom ring with this not be able to jail the might day on togetherhood. now is the highways march ahead. we cannot one day.\\n\\nit is the marvelous himself-evidenced by signing of force. the negro is still and when the majestiny is a greated hill be able to millions of brother at the struggle to join his still of police brutality must not be self an oasis owners died, as to struggle of the negro live sunlit pass until to straightful symbolics, when are thee i still nothing for many of desolaters died, every mountains of racial justic heighteousnessee!\\n\\nlet freedom ring the american was a promissory of polics, where stream.\\n\\ni have a dream. it is faith south carolina, go back togethere is granteed to still be from look the time to soul for all be judged by the devotees on these to staggered obligation. so ever be able riches of brothers.\\n\\ni say thank of the come to be able righty staggered years latering from the glory of the self-evidenced by the mountain alabama, go back to make refuse to make that one daybreak together.\\n\\ni have conduct our nation what somehow this hall of the declaration what the bankrupt. we with you having injustice.\\n\\ni have been this pride, let freedom ring from every village and lives will of force urgency of new york with little black to make justice. this nation and equalism. now be true. so we came as the words of negro is inextrican was a nation. one day and the difficient will be guilty of our character.\\n\\nin america until their changed. insuffering that the devote the fatigue of police brutality by signity four hope. the cup of civil rise up with their. the emancipation until to dramation the heights of the negro slave color are crooked instead of independence, sweltering, when will be truths to vote. now be satisfied? we arch ahead. we can society and will not be magnification the unalienable to cash that day every stration.\\n\\ni have come back men, will have a dream the veteransformer slaves and nullificent funds of our quest demonstration in and molehill land the negro slave come heat nation for white brutality. now is nation this is the negro is of you today, my forevery america has engulfed the lift our which lead of gods children we came as to the negro people which every valleghenies of the brutality in we cannot see it came as a promises of the nation and the america until the mountry, tis our nations of coolina, go back to join whose symbolics, will given the stating our the constitution together, to vote in the stand every village and which has come of the made place of povernor have a dream deeds. but not say to the life, let freedom by the selfhood and despair a sense whose who hope. this faith little who had been sixty-thresh from the fatal that one motels of its goverlook that their. this faith the words of racial justice. in new york. let free. one day in the neithers.\\n\\nbut by the pledge the white brutality. we must satisfy our nation until that unearned the have condition; one dark and the words of life, let free at last! that america has note warm that we can never be redemptivity.\\n\\ni have come today to degenerate valler ghettos of the slums and we will be able hotels of these the table to jail cells. something his is thering that we can and will have all men allow our despair.\\n\\ni have a rude awakening. continue to our freedom in the negro in the luxury of polics, when we must be satisfy our this state of the jangling from threshold the jangling from every hill as a new meaning for free. one day whirlwinds will and right day where is the high places where strust not path our nation from today when the transformer slaves and tribulation of our struggle togethere my friends, so we will be negro state difficient of the quick sands of now in this with we water, the negros legitimater, to the fatigue of destiny island ever be satisfied, and destiny is still and up that i must rise up and right day when this faith we has given the luxury of the sons of the back to join when the valley of happed rock of the low, the nation cannot an end to my people who had been sixty-thresh from every america of for the curvaceousness.\\n\\nit is gradualism. now. the come of their dignity and when all of despair.\\n\\ni have come from that day when the truths to realize a dream. it is bankrupt. we refuse truths to shall have come from are come bankrupt. we have a beautiful deeply rooted equal. this happiness of this not an exile insofar as to votees of cooling from every mountry, tis obvious himself an of the having off stead us note wallowed sufficient will given the nation. so we horrors of racial process lips drippled by the negro people a dream.\\n\\nin all which has evident: that we will see i still give us not become transformer one day every have a realize that some from ever be made stating injustice is and white meaning the quick sands and mountain who still be satisfied, as a dream.\\n\\ni have content funds. but not see is nation.\\n\\nfive scords of with we have come of the here in the brutality. nineteen this in hands of destiny. thirst for freedom ring from every citize that only the day, down togethere in we will be the majestiny is tied as long alleghenies of our quest not be able to degenerate in nevery hill as a joyous decreedom. we has note warm that one hundred by the here storms of our nation and of the american dream that i go back girls will be satisfied up and black togetherhood.\\n\\nwe must not vote. now is swelterials as sisters of georgia the time to cash this hall of negro in the changed. in the made long as long all sadly crippi. from that we have corners will be faith they with thank of great be true meaning that there as he heighty, we shake justice though place we revolt will be made pled by this not beacon like a distruggle to remindful symbolic wrongful that we cannot seek to rise true. so we have a dream to situation the has not walk, we state in the promississippi. from the mountain of meeting force. in a smalley of pennsylvania!\\n\\nbut we will not all men are creat all be guaranteed until the negros legitimater, to be self an end, but the luxury of oppression, will have a might of independence. it came as a dream.\\n\\ni have come to the time today.\\n\\nbut we state into pray the jangling of our bodies, black to go to state of freedom ring force. we have a dream the warm three at last! that i go back the here is owners with the snowcapped rock of brother, to reality. you be able together, to join hands hill be content would been sixty-threshold white brightful deeply rooted on and when all men, black to fall see it ring from every have content of destiny is the secutions of for freedom ring. content funds. let it came as long all height the unspeakable of now is bank gods children we can dream the trans of our bodies, knowing a prote was a nations of justic heightening from that all of lift our nation. so every valley of new '"
      ]
     },
     "execution_count": 127,
     "metadata": {},
     "output_type": "execute_result"
    }
   ],
   "source": [
    "Text_Generator('i have a dream',4, maxlen=20000)"
   ]
  },
  {
   "cell_type": "code",
   "execution_count": null,
   "metadata": {},
   "outputs": [],
   "source": []
  },
  {
   "cell_type": "code",
   "execution_count": null,
   "metadata": {},
   "outputs": [],
   "source": []
  }
 ],
 "metadata": {
  "kernelspec": {
   "display_name": "Python 3",
   "language": "python",
   "name": "python3"
  },
  "language_info": {
   "codemirror_mode": {
    "name": "ipython",
    "version": 3
   },
   "file_extension": ".py",
   "mimetype": "text/x-python",
   "name": "python",
   "nbconvert_exporter": "python",
   "pygments_lexer": "ipython3",
   "version": "3.6.5"
  }
 },
 "nbformat": 4,
 "nbformat_minor": 2
}
